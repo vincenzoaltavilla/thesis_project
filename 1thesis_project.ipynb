{
  "nbformat": 4,
  "nbformat_minor": 0,
  "metadata": {
    "colab": {
      "provenance": [],
      "collapsed_sections": [
        "WNZgWBPq8USk",
        "Y9GY4JuA5jIS",
        "ZJk-qfYr5uGk",
        "EkUYHeD5Lm2S",
        "nhEJ_sAYs55W",
        "H9ZOsJZSxCA2",
        "dtsWZapS52xY"
      ],
      "authorship_tag": "ABX9TyMaNWkpKlLMlAWD78IJmKl0",
      "include_colab_link": true
    },
    "kernelspec": {
      "name": "python3",
      "display_name": "Python 3"
    },
    "language_info": {
      "name": "python"
    }
  },
  "cells": [
    {
      "cell_type": "markdown",
      "metadata": {
        "id": "view-in-github",
        "colab_type": "text"
      },
      "source": [
        "<a href=\"https://colab.research.google.com/github/vincenzoaltavilla/thesis_project/blob/main/1thesis_project.ipynb\" target=\"_parent\"><img src=\"https://colab.research.google.com/assets/colab-badge.svg\" alt=\"Open In Colab\"/></a>"
      ]
    },
    {
      "cell_type": "markdown",
      "source": [
        "# **DOWNLOAD DATASET DA KAGGLE**\n",
        "\n",
        "notebook 1: https://www.kaggle.com/code/chrisferentinos/premier-league-championship-team-analysis/notebook\n",
        "\n",
        "dataset: https://www.kaggle.com/datasets/davidcariboo/player-scores"
      ],
      "metadata": {
        "id": "WNZgWBPq8USk"
      }
    },
    {
      "cell_type": "code",
      "source": [
        "import os\n",
        "import sys\n",
        "from tempfile import NamedTemporaryFile\n",
        "from urllib.request import urlopen\n",
        "from urllib.parse import unquote, urlparse\n",
        "from urllib.error import HTTPError\n",
        "from zipfile import ZipFile\n",
        "import tarfile\n",
        "import shutil\n",
        "\n",
        "CHUNK_SIZE = 40960\n",
        "DATA_SOURCE_MAPPING = 'player-scores:https%3A%2F%2Fstorage.googleapis.com%2Fkaggle-data-sets%2F1071543%2F7910805%2Fbundle%2Farchive.zip%3FX-Goog-Algorithm%3DGOOG4-RSA-SHA256%26X-Goog-Credential%3Dgcp-kaggle-com%2540kaggle-161607.iam.gserviceaccount.com%252F20240520%252Fauto%252Fstorage%252Fgoog4_request%26X-Goog-Date%3D20240520T104920Z%26X-Goog-Expires%3D259200%26X-Goog-SignedHeaders%3Dhost%26X-Goog-Signature%3D07fcb2d1e41c6bd75feeccff6e1b8c9beec882f59cb91784327ef563e6305415e410dab20d9bd591dde31c94b9a011a620b1630694a5a7da8fadd19f910d605308ee4e13cf4d352987e081ffb39fe48479139c3a0e3ba6e0427c3d9e1f773ce2e2d68ccc1f56c8e3100863d2f11b1cf505a50bab037ffb2993a8b6f258f28a587049a31bf8f778af5433e47e340ed38402a7fef0b46f2ec2478205a1aff950e5ed48f48e63c55ce66c29ef20eee3d83a92bdd72201802f3016164f02c196eeb941ed02aa1d194c720170a434bb92fb796c169f4d664bdf66f0330cd815cc902b78798aee7ed106b243689393504f281daea4db56a888410399d590e6a3eea831'\n",
        "\n",
        "KAGGLE_INPUT_PATH='/kaggle/input'\n",
        "KAGGLE_WORKING_PATH='/kaggle/working'\n",
        "KAGGLE_SYMLINK='kaggle'\n",
        "\n",
        "!umount /kaggle/input/ 2> /dev/null\n",
        "shutil.rmtree('/kaggle/input', ignore_errors=True)\n",
        "os.makedirs(KAGGLE_INPUT_PATH, 0o777, exist_ok=True)\n",
        "os.makedirs(KAGGLE_WORKING_PATH, 0o777, exist_ok=True)\n",
        "\n",
        "try:\n",
        "  os.symlink(KAGGLE_INPUT_PATH, os.path.join(\"..\", 'input'), target_is_directory=True)\n",
        "except FileExistsError:\n",
        "  pass\n",
        "try:\n",
        "  os.symlink(KAGGLE_WORKING_PATH, os.path.join(\"..\", 'working'), target_is_directory=True)\n",
        "except FileExistsError:\n",
        "  pass\n",
        "\n",
        "for data_source_mapping in DATA_SOURCE_MAPPING.split(','):\n",
        "    directory, download_url_encoded = data_source_mapping.split(':')\n",
        "    download_url = unquote(download_url_encoded)\n",
        "    filename = urlparse(download_url).path\n",
        "    destination_path = os.path.join(KAGGLE_INPUT_PATH, directory)\n",
        "    try:\n",
        "        with urlopen(download_url) as fileres, NamedTemporaryFile() as tfile:\n",
        "            total_length = fileres.headers['content-length']\n",
        "            print(f'Downloading {directory}, {total_length} bytes compressed')\n",
        "            dl = 0\n",
        "            data = fileres.read(CHUNK_SIZE)\n",
        "            while len(data) > 0:\n",
        "                dl += len(data)\n",
        "                tfile.write(data)\n",
        "                done = int(50 * dl / int(total_length))\n",
        "                sys.stdout.write(f\"\\r[{'=' * done}{' ' * (50-done)}] {dl} bytes downloaded\")\n",
        "                sys.stdout.flush()\n",
        "                data = fileres.read(CHUNK_SIZE)\n",
        "            if filename.endswith('.zip'):\n",
        "              with ZipFile(tfile) as zfile:\n",
        "                zfile.extractall(destination_path)\n",
        "            else:\n",
        "              with tarfile.open(tfile.name) as tarfile:\n",
        "                tarfile.extractall(destination_path)\n",
        "            print(f'\\nDownloaded and uncompressed: {directory}')\n",
        "    except HTTPError as e:\n",
        "        print(f'Failed to load (likely expired) {download_url} to path {destination_path}')\n",
        "        continue\n",
        "    except OSError as e:\n",
        "        print(f'Failed to load {download_url} to path {destination_path}')\n",
        "        continue"
      ],
      "metadata": {
        "colab": {
          "base_uri": "https://localhost:8080/"
        },
        "id": "VmBTprTt8bxZ",
        "outputId": "e594f7ad-f6d2-4761-992c-40c7470ff8f2"
      },
      "execution_count": null,
      "outputs": [
        {
          "output_type": "stream",
          "name": "stdout",
          "text": [
            "Downloading player-scores, 152669203 bytes compressed\n",
            "[==================================================] 152669203 bytes downloaded\n",
            "Downloaded and uncompressed: player-scores\n"
          ]
        }
      ]
    },
    {
      "cell_type": "markdown",
      "source": [
        "# **IMPORT LIBRERIE, ACQUISIZIONE DATASET E CONVERSIONE DATE**\n",
        "\n"
      ],
      "metadata": {
        "id": "DNypaqbD88t8"
      }
    },
    {
      "cell_type": "code",
      "source": [
        "import os\n",
        "import warnings\n",
        "warnings.filterwarnings('ignore')\n",
        "\n",
        "import plotly.io as pio\n",
        "pio.renderers.default='colab'\n",
        "\n",
        "import pandas as pd\n",
        "pd.set_option('display.max.rows', 500)\n",
        "pd.set_option('display.max.columns', 100)\n",
        "\n",
        "def european_format(x):\n",
        "    return '{:,.2f}'.format(x).replace(',', 'X').replace('.', ',').replace('X', '.')\n",
        "\n",
        "pd.set_option('display.float_format', european_format)\n",
        "\n",
        "import numpy as np\n",
        "import matplotlib.pyplot as plt\n",
        "import seaborn as sns\n",
        "import plotly.express as px\n",
        "from plotly.subplots import make_subplots\n",
        "import plotly.graph_objects as go\n",
        "import plotly.io as pio\n",
        "from datetime import datetime\n",
        "\n",
        "#game_lineups = pd.read_csv(\"/kaggle/input/player-scores/game_lineups.csv\")             unused\n",
        "#games = pd.read_csv(\"/kaggle/input/player-scores/games.csv\")                           unused\n",
        "\n",
        "appearances = pd.read_csv(\"/kaggle/input/player-scores/appearances.csv\")                #used\n",
        "club_games = pd.read_csv(\"/kaggle/input/player-scores/club_games.csv\")                  #used\n",
        "clubs = pd.read_csv(\"/kaggle/input/player-scores/clubs.csv\")                            #used\n",
        "competitions = pd.read_csv(\"/kaggle/input/player-scores/competitions.csv\")              #used\n",
        "game_events = pd.read_csv(\"/kaggle/input/player-scores/game_events.csv\")                #used\n",
        "player_valuations = pd.read_csv(\"/kaggle/input/player-scores/player_valuations.csv\")    #used\n",
        "players = pd.read_csv(\"/kaggle/input/player-scores/players.csv\")                        #used\n",
        "\n",
        "players['date_of_birth'] = pd.to_datetime(players['date_of_birth'])\n",
        "appearances['date'] = pd.to_datetime(appearances['date'])\n",
        "game_events['date'] = pd.to_datetime(game_events['date'])\n",
        "player_valuations['date'] = pd.to_datetime(player_valuations['date'])"
      ],
      "metadata": {
        "id": "GbQtDO3u9Qas"
      },
      "execution_count": null,
      "outputs": []
    },
    {
      "cell_type": "markdown",
      "source": [
        "# **INIZIO LAVORO**"
      ],
      "metadata": {
        "id": "uZRFQZChlBYL"
      }
    },
    {
      "cell_type": "markdown",
      "source": [
        "## **Data cleaning & feature engineering**"
      ],
      "metadata": {
        "id": "IyJotMhR3Ki-"
      }
    },
    {
      "cell_type": "markdown",
      "source": [
        "### **Aggiustamento tabella \"Players\"**"
      ],
      "metadata": {
        "id": "Y9GY4JuA5jIS"
      }
    },
    {
      "cell_type": "code",
      "source": [
        "mean_height = players['height_in_cm'].mean()\n",
        "players['height_in_cm'] = players['height_in_cm'].fillna(mean_height)\n",
        "players['height_in_cm'] = players['height_in_cm'].astype(int)\n",
        "players['foot'] = players['foot'].fillna('both')\n",
        "\n",
        "players = players.drop(columns=['url','image_url','agent_name','last_season','current_club_id',\n",
        "                      'player_code','country_of_birth','city_of_birth', 'current_club_name',\n",
        "                      'current_club_domestic_competition_id', 'market_value_in_eur',\n",
        "                      'highest_market_value_in_eur', 'contract_expiration_date',\n",
        "                      'first_name', 'last_name'])\n",
        "\n",
        "#altezza media per valori nulli, ambidestro per piedi nulli"
      ],
      "metadata": {
        "id": "XB4RQqrV0DgD"
      },
      "execution_count": null,
      "outputs": []
    },
    {
      "cell_type": "markdown",
      "source": [
        "### **Join fra \"Players\", \"Appearances\", \"Clubs\" e \"Competitions\"**"
      ],
      "metadata": {
        "id": "ZJk-qfYr5uGk"
      }
    },
    {
      "cell_type": "code",
      "source": [
        "players_appearances = pd.merge(players, appearances, on='player_id', how='inner')\n",
        "players_appearances = players_appearances.drop(columns=['player_current_club_id','appearance_id',\n",
        "                                                        'name', 'competition_id'])"
      ],
      "metadata": {
        "id": "zhY-hwvJ5xhG"
      },
      "execution_count": null,
      "outputs": []
    },
    {
      "cell_type": "code",
      "source": [
        "players_appearances = pd.merge(players_appearances, clubs, left_on='player_club_id', right_on='club_id', how='inner')\n",
        "players_appearances = players_appearances.drop(columns=['player_club_id','club_code','squad_size',\n",
        "                                                        'average_age', 'foreigners_number',\n",
        "                                                        'foreigners_percentage',\n",
        "                                                        'national_team_players', 'stadium_name',\n",
        "                                                        'stadium_seats', 'net_transfer_record',\n",
        "                                                        'last_season', 'filename',\n",
        "                                                        'url', 'coach_name', 'total_market_value'])\n",
        "players_appearances = players_appearances.rename(columns={\"name\": \"club_name\"})"
      ],
      "metadata": {
        "id": "_AjIsiCJGON9"
      },
      "execution_count": null,
      "outputs": []
    },
    {
      "cell_type": "code",
      "source": [
        "players_appearances = pd.merge(players_appearances, competitions, left_on='domestic_competition_id', right_on='competition_id', how='left')\n",
        "players_appearances = players_appearances.drop(columns=['domestic_competition_id','competition_code',\n",
        "                                                        'name', 'sub_type', 'type', 'country_id',\n",
        "                                                        'competition_id', 'domestic_league_code',\n",
        "                                                        'confederation', 'url'])"
      ],
      "metadata": {
        "id": "P9ulDWT798wP"
      },
      "execution_count": null,
      "outputs": []
    },
    {
      "cell_type": "code",
      "source": [
        "players_appearances = players_appearances.rename(columns={\"country_name\": \"club_national_league\",\n",
        "                                                          \"is_major_national_league\": \"is_top5_league\"})\n",
        "players_appearances = players_appearances[['player_id', 'player_name', 'position', 'sub_position',\n",
        "                                          'foot', 'height_in_cm', 'country_of_citizenship',\n",
        "                                          'date_of_birth', 'club_id', 'club_name',\n",
        "                                          'club_national_league', 'is_top5_league', 'game_id', 'date',\n",
        "                                          'yellow_cards', 'red_cards', 'goals', 'assists',\n",
        "                                          'minutes_played']]"
      ],
      "metadata": {
        "id": "xJ1qDH_gHLB0"
      },
      "execution_count": null,
      "outputs": []
    },
    {
      "cell_type": "markdown",
      "source": [
        "### **Different type of goals**"
      ],
      "metadata": {
        "id": "EkUYHeD5Lm2S"
      }
    },
    {
      "cell_type": "code",
      "source": [
        "goal_events = game_events[game_events['type']== 'Goals']\n",
        "goal_events = goal_events.drop(columns=['game_event_id', 'player_in_id', 'type', 'player_assist_id',\n",
        "                                        'minute'])\n",
        "mask = goal_events['description'].str.contains('Own-goal', case=False)\n",
        "goal_events = goal_events[~mask]"
      ],
      "metadata": {
        "id": "c8kzVe9NMXz8"
      },
      "execution_count": null,
      "outputs": []
    },
    {
      "cell_type": "code",
      "source": [
        "kind_of_goals = ['Header', 'Right-footed', 'Left-footed', 'Penalty', 'Long distance kick',\n",
        "                 'Free kick', 'Counter attack', 'Solo run', 'Tap-in']\n",
        "\n",
        "for kind_of_goal in kind_of_goals:\n",
        "    mask = goal_events['description'].str.contains(kind_of_goal, case=False)\n",
        "    goal_events.loc[mask, 'description'] = kind_of_goal\n",
        "\n",
        "import re\n",
        "regex_other_goals = '|'.join(kind_of_goals)\n",
        "\n",
        "mask = ~goal_events['description'].str.contains(regex_other_goals, case=False)\n",
        "goal_events.loc[mask, 'description'] = 'Other'"
      ],
      "metadata": {
        "id": "zWuy2EGEgjZj"
      },
      "execution_count": null,
      "outputs": []
    },
    {
      "cell_type": "code",
      "source": [
        "goal_events['right_footed_goals'] = 0\n",
        "goal_events['left_footed_goals'] = 0\n",
        "goal_events['long_distance_goals'] = 0\n",
        "goal_events['direct_free_kick_goals'] = 0\n",
        "goal_events['penalty_goals'] = 0\n",
        "goal_events['header_goals'] = 0\n",
        "goal_events['counter_attack_goals'] = 0\n",
        "goal_events['solo_run_goals'] = 0\n",
        "goal_events['tap-in_goals'] = 0\n",
        "goal_events['other_kind_of_goals'] = 0\n",
        "\n",
        "goal_events.loc[goal_events['description'] == 'Header', 'header_goals'] = 1\n",
        "goal_events.loc[goal_events['description'] == 'Right-footed', 'right_footed_goals'] = 1\n",
        "goal_events.loc[goal_events['description'] == 'Left-footed', 'left_footed_goals'] = 1\n",
        "goal_events.loc[goal_events['description'] == 'Penalty', 'penalty_goals'] = 1\n",
        "goal_events.loc[goal_events['description'] == 'Long distance kick', 'long_distance_goals'] = 1\n",
        "goal_events.loc[goal_events['description'] == 'Free kick', 'direct_free_kick_goals'] = 1\n",
        "goal_events.loc[goal_events['description'] == 'Counter attack', 'counter_attack_goals'] = 1\n",
        "goal_events.loc[goal_events['description'] == 'Solo run', 'solo_run_goals'] = 1\n",
        "goal_events.loc[goal_events['description'] == 'Tap-in', 'tap-in_goals'] = 1\n",
        "goal_events.loc[goal_events['description'] == 'Other', 'other_kind_of_goals'] = 1\n",
        "\n",
        "#.sort_values(by=['date'], ascending=False)"
      ],
      "metadata": {
        "id": "6z7uj3ETem42"
      },
      "execution_count": null,
      "outputs": []
    },
    {
      "cell_type": "code",
      "source": [
        "goal_events = goal_events.groupby(['date', 'game_id', 'player_id']).agg({\n",
        "    'club_id': 'first',\n",
        "    'description': 'first',\n",
        "    'right_footed_goals': 'sum',\n",
        "    'left_footed_goals': 'sum',\n",
        "    'long_distance_goals': 'sum',\n",
        "    'direct_free_kick_goals': 'sum',\n",
        "    'penalty_goals': 'sum',\n",
        "    'header_goals': 'sum',\n",
        "    'counter_attack_goals': 'sum',\n",
        "    'solo_run_goals': 'sum',\n",
        "    'tap-in_goals': 'sum',\n",
        "    'other_kind_of_goals': 'sum',\n",
        "}).reset_index()\n",
        "\n",
        "goal_events.rename(columns=dict(zip(goal_events.columns[:5], ['goal_'+str(col) for col in goal_events.columns[:5]])), inplace=True)"
      ],
      "metadata": {
        "id": "3kU4xaw1w9wn"
      },
      "execution_count": null,
      "outputs": []
    },
    {
      "cell_type": "markdown",
      "source": [
        "### **Player valuations**"
      ],
      "metadata": {
        "id": "MopV0A1bBaFi"
      }
    },
    {
      "cell_type": "code",
      "source": [
        "player_valuations = player_valuations.drop(columns=['current_club_id','player_club_domestic_competition_id'])\n",
        "\n",
        "player_valuations['month'] = player_valuations ['date'].dt.month\n",
        "player_valuations['year'] = player_valuations ['date'].dt.year\n",
        "\n",
        "player_valuations_grouped = player_valuations.groupby(['player_id', 'year', 'month'])['market_value_in_eur'].mean().reset_index()"
      ],
      "metadata": {
        "id": "mvPQDyWLBd1N"
      },
      "execution_count": null,
      "outputs": []
    },
    {
      "cell_type": "code",
      "source": [
        "#CI METTE TANTO\n",
        "rows = []\n",
        "for player, player_data in player_valuations.groupby('player_id'):\n",
        "    player_start_date = player_data['date'].min().replace(day=1)\n",
        "    player_end_date = player_data['date'].max()\n",
        "    player_date_range = pd.date_range(start=player_start_date, end=player_end_date, freq='MS')\n",
        "    for year, month in zip(player_date_range.year, player_date_range.month):\n",
        "        rows.append((player, year, month))"
      ],
      "metadata": {
        "id": "R7V6NyL-bGZZ"
      },
      "execution_count": null,
      "outputs": []
    },
    {
      "cell_type": "code",
      "source": [
        "player_valuations_new = pd.DataFrame(rows, columns=['player_id', 'year', 'month'])\n",
        "\n",
        "player_valuations_new = pd.merge(player_valuations_new, player_valuations_grouped,\n",
        "                        on=['player_id', 'year', 'month'], how='left')\n",
        "\n",
        "# Riempimento dei valori NaN con il valore del mese precedente per ogni giocatore\n",
        "player_valuations_new['market_value_in_eur'] = player_valuations_new.groupby('player_id')['market_value_in_eur'].fillna(method='ffill')\n",
        "player_valuations_new.rename(columns={\"market_value_in_eur\": \"avg_monthly_market_value_in_eur\"}, inplace=True)"
      ],
      "metadata": {
        "id": "DavjiH9YbvmI"
      },
      "execution_count": null,
      "outputs": []
    },
    {
      "cell_type": "markdown",
      "source": [
        "## **First important join: \"Players_appearances\" & \"Goal_events\"**"
      ],
      "metadata": {
        "id": "nhEJ_sAYs55W"
      }
    },
    {
      "cell_type": "code",
      "source": [
        "players_appearances_detailed = pd.merge(players_appearances, goal_events, left_on=['game_id', 'player_id'], right_on=['goal_game_id', 'goal_player_id'], how='left')\n",
        "players_appearances_detailed = players_appearances_detailed.drop(columns=['goal_date', 'goal_game_id',\n",
        "                                                                          'goal_player_id', 'goal_club_id'])"
      ],
      "metadata": {
        "id": "cGSJaGoBs4Xw"
      },
      "execution_count": null,
      "outputs": []
    },
    {
      "cell_type": "code",
      "source": [
        "players_appearances_detailed.loc[players_appearances_detailed['goals'] == 0, ['goal_description',\n",
        "                                                                              'right_footed_goals',\n",
        "                                                                              'left_footed_goals',\n",
        "                                                                              'long_distance_goals',\n",
        "                                                                              'direct_free_kick_goals',\n",
        "                                                                              'penalty_goals',\n",
        "                                                                              'header_goals',\n",
        "                                                                              'counter_attack_goals',\n",
        "                                                                              'solo_run_goals',\n",
        "                                                                              'tap-in_goals',\n",
        "                                                                              'other_kind_of_goals']] = 0\n",
        "\n",
        "players_appearances_detailed = players_appearances_detailed.drop(columns=['goal_description'])\n",
        "\n",
        "players_appearances_detailed['right_footed_goals'] = players_appearances_detailed['right_footed_goals'].fillna(0).astype(int)\n",
        "players_appearances_detailed['left_footed_goals'] = players_appearances_detailed['left_footed_goals'].fillna(0).astype(int)\n",
        "players_appearances_detailed['long_distance_goals'] = players_appearances_detailed['long_distance_goals'].fillna(0).astype(int)\n",
        "players_appearances_detailed['direct_free_kick_goals'] = players_appearances_detailed['direct_free_kick_goals'].fillna(0).astype(int)\n",
        "players_appearances_detailed['penalty_goals'] = players_appearances_detailed['penalty_goals'].fillna(0).astype(int)\n",
        "players_appearances_detailed['header_goals'] = players_appearances_detailed['header_goals'].fillna(0).astype(int)\n",
        "players_appearances_detailed['counter_attack_goals'] = players_appearances_detailed['counter_attack_goals'].fillna(0).astype(int)\n",
        "players_appearances_detailed['solo_run_goals'] = players_appearances_detailed['solo_run_goals'].fillna(0).astype(int)\n",
        "players_appearances_detailed['tap-in_goals'] = players_appearances_detailed['tap-in_goals'].fillna(0).astype(int)\n",
        "players_appearances_detailed['other_kind_of_goals'] = players_appearances_detailed['other_kind_of_goals'].fillna(0).astype(int)"
      ],
      "metadata": {
        "id": "byCHuIm81XDY"
      },
      "execution_count": null,
      "outputs": []
    },
    {
      "cell_type": "code",
      "source": [
        "first_stats = players_appearances_detailed[['player_id', 'player_name', 'position', 'sub_position',\n",
        "                                            'foot',\t'height_in_cm',\t'country_of_citizenship',\n",
        "                                            'date_of_birth', 'club_id', 'club_name',\n",
        "                                            'club_national_league', 'is_top5_league', 'date',\n",
        "                                            'game_id', 'minutes_played', 'goals', 'assists',\n",
        "                                            'right_footed_goals', 'left_footed_goals',\n",
        "                                            'header_goals', 'direct_free_kick_goals',\n",
        "                                            'penalty_goals', 'long_distance_goals',\n",
        "                                            'counter_attack_goals', 'solo_run_goals',\n",
        "                                            'tap-in_goals', 'other_kind_of_goals', 'yellow_cards',\n",
        "                                            'red_cards',]]"
      ],
      "metadata": {
        "id": "A-260o1mB8_4"
      },
      "execution_count": null,
      "outputs": []
    },
    {
      "cell_type": "markdown",
      "source": [
        "## **Second important join: \"First_stats\" & \"Club_games\"**"
      ],
      "metadata": {
        "id": "H9ZOsJZSxCA2"
      }
    },
    {
      "cell_type": "code",
      "source": [
        "intermediate_stats = pd.merge(first_stats, club_games, on=['game_id', 'club_id'], how='inner')\n",
        "intermediate_stats = intermediate_stats.drop(columns=['own_goals', 'own_position', 'own_manager_name',\n",
        "                                                      'opponent_id', 'opponent_position',\n",
        "                                                      'opponent_manager_name', 'hosting'])"
      ],
      "metadata": {
        "id": "zCo633YoxGK9"
      },
      "execution_count": null,
      "outputs": []
    },
    {
      "cell_type": "code",
      "source": [
        "intermediate_stats['is_clean_sheet'] = 1\n",
        "intermediate_stats.loc[intermediate_stats['opponent_goals'] > 0, 'is_clean_sheet'] = 0\n",
        "intermediate_stats['year'] = intermediate_stats['date'].dt.year\n",
        "intermediate_stats['month'] = intermediate_stats['date'].dt.month\n",
        "intermediate_stats['age'] = intermediate_stats['year'] - intermediate_stats['date_of_birth'].dt.year\n",
        "intermediate_stats['age'] = intermediate_stats['age'].fillna(0).astype(int)"
      ],
      "metadata": {
        "id": "aT_TUhJJzznO"
      },
      "execution_count": null,
      "outputs": []
    },
    {
      "cell_type": "markdown",
      "source": [
        "## **First group by & add calculated features**"
      ],
      "metadata": {
        "id": "dtsWZapS52xY"
      }
    },
    {
      "cell_type": "code",
      "source": [
        "grouped_stats = intermediate_stats.groupby(['player_id', 'year', 'month']).agg({\n",
        "    'player_name': 'first',\n",
        "    'position': 'first',\n",
        "    'sub_position': 'first',\n",
        "    'foot': 'first',\n",
        "    'height_in_cm': 'first',\n",
        "    'country_of_citizenship': 'first',\n",
        "    'date_of_birth': 'first',\n",
        "    'club_id': 'first',\n",
        "    'club_name': 'first',\n",
        "    'club_national_league': 'first',\n",
        "    'is_top5_league': 'first',\n",
        "    'date': 'first',\n",
        "    'game_id': 'count',\n",
        "    'minutes_played': 'sum',\n",
        "    'goals': 'sum',\n",
        "    'assists': 'sum',\n",
        "    'right_footed_goals': 'sum',\n",
        "    'left_footed_goals': 'sum',\n",
        "    'header_goals': 'sum',\n",
        "    'direct_free_kick_goals': 'sum',\n",
        "    'penalty_goals': 'sum',\n",
        "    'long_distance_goals': 'sum',\n",
        "    'counter_attack_goals': 'sum',\n",
        "    'solo_run_goals': 'sum',\n",
        "    'tap-in_goals': 'sum',\n",
        "    'other_kind_of_goals': 'sum',\n",
        "    'yellow_cards': 'sum',\n",
        "    'red_cards': 'sum',\n",
        "    'opponent_goals': 'sum',\n",
        "    'is_win': 'sum',\n",
        "    'is_clean_sheet': 'sum',\n",
        "    'age': 'first'\n",
        "}).reset_index()\n"
      ],
      "metadata": {
        "id": "u6Xl12c25d1p"
      },
      "execution_count": null,
      "outputs": []
    },
    {
      "cell_type": "code",
      "source": [
        "stats = grouped_stats[['player_id', 'date', 'year', 'month', 'player_name', 'position', 'sub_position',\n",
        "                       'foot', 'height_in_cm',\t'country_of_citizenship',\n",
        "                       'date_of_birth', 'club_id', 'club_name',\n",
        "                       'club_national_league', 'is_top5_league',\n",
        "                       'age', 'game_id', 'minutes_played', 'is_win', 'goals', 'assists',\n",
        "                       'right_footed_goals', 'left_footed_goals',\n",
        "                       'header_goals', 'direct_free_kick_goals',\n",
        "                       'penalty_goals', 'long_distance_goals', 'counter_attack_goals',\n",
        "                       'solo_run_goals', 'tap-in_goals', 'other_kind_of_goals', 'opponent_goals',\n",
        "                       'is_clean_sheet', 'yellow_cards', 'red_cards']]\n",
        "\n",
        "stats.rename(columns={\"game_id\": \"games_played\", \"is_win\": \"games_won\", \"is_clean_sheet\": \"n_of_clean_sheets\"}, inplace=True)\n",
        "stats.loc[stats['position'] != \"Goalkeeper\", 'n_of_clean_sheets'] = 0\n",
        "\n",
        "stats['goals_scored_per_match'] = ((stats['goals'] / stats['games_played'])).round(2)\n",
        "stats['percentage_of_win'] = ((stats['games_won'] / stats['games_played']) * 100).round(2)\n",
        "stats['percentage_of_clean_sheets'] = ((stats['n_of_clean_sheets'] / stats['games_played']) * 100).round(2)\n",
        "stats['conceded_goals_per_match'] = ((stats['opponent_goals'] / stats['games_played'])).round(2)\n",
        "\n",
        "stats = stats.dropna()"
      ],
      "metadata": {
        "id": "mhJyIvKDCIlY"
      },
      "execution_count": null,
      "outputs": []
    },
    {
      "cell_type": "markdown",
      "source": [
        "## **Third important join: \"Stats\" & \"Player_valuations\"**"
      ],
      "metadata": {
        "id": "pIUMP2cAJzg-"
      }
    },
    {
      "cell_type": "code",
      "source": [
        "stats_with_values = pd.merge(stats, player_valuations_new, on=['player_id', 'year', 'month'], how='left')"
      ],
      "metadata": {
        "id": "rvI7AsvwJ8yR"
      },
      "execution_count": null,
      "outputs": []
    },
    {
      "cell_type": "code",
      "source": [
        "stats_with_values['avg_monthly_market_value_in_eur'] = (\n",
        "    stats_with_values.groupby('player_id')['avg_monthly_market_value_in_eur']\n",
        "    .transform(lambda group: group.ffill().bfill())\n",
        ")\n",
        "\n",
        "stats_with_values = stats_with_values.dropna()"
      ],
      "metadata": {
        "id": "X7qpg6vElPR-"
      },
      "execution_count": null,
      "outputs": []
    },
    {
      "cell_type": "markdown",
      "source": [
        "# **Print**"
      ],
      "metadata": {
        "id": "D0Nna_R3MR8E"
      }
    },
    {
      "cell_type": "code",
      "source": [
        "stats_with_values.to_csv('stats_with_values.csv', index=False)"
      ],
      "metadata": {
        "id": "cujm0MGaQNre"
      },
      "execution_count": null,
      "outputs": []
    },
    {
      "cell_type": "code",
      "source": [
        "name = 'Bernardo Silva'\n",
        "player_values = stats_with_values[stats_with_values['player_name'] == name]\n",
        "#subset_rows =\n",
        "player_values\n",
        "\n",
        "#player_values[['player_name', 'year', 'month', 'club_name', 'games_played', 'goals' ,'avg_monthly_market_value_in_eur']]\n",
        "#[stats_with_values['player_name'] == 'Cristiano Ronaldo']\n",
        "#.sort_values(by=['goals'], ascending=False).head(50)\n",
        "#stats_with_values[stats_with_values.isnull().any(axis=1)]"
      ],
      "metadata": {
        "id": "rmjkE1-2DyTQ"
      },
      "execution_count": null,
      "outputs": []
    },
    {
      "cell_type": "code",
      "source": [
        "fig = px.line(player_values, x='date', y='avg_monthly_market_value_in_eur', title=f'{name}\\'s market value evolution')\n",
        "\n",
        "fig.update_traces(line=dict(color='red', width=4))\n",
        "\n",
        "fig.update_layout(plot_bgcolor='white',\n",
        "                  paper_bgcolor='white',\n",
        "                  title_font=dict(size=24, family='Arial', color='black'),\n",
        "                  xaxis=dict(title='Years', tickfont=dict(size=12, color='black'),showgrid=True, dtick='M12', gridcolor='grey'),\n",
        "                  yaxis=dict(title='Value', tickfont=dict(size=12, color='black'),showgrid=True, gridcolor='grey'))\n",
        "\n",
        "fig.show()"
      ],
      "metadata": {
        "colab": {
          "base_uri": "https://localhost:8080/",
          "height": 542
        },
        "id": "VS7uSA1yoMEl",
        "outputId": "6bf3cb1c-0773-436c-fb62-4ee1a0fee4f7"
      },
      "execution_count": null,
      "outputs": [
        {
          "output_type": "display_data",
          "data": {
            "text/html": [
              "<html>\n",
              "<head><meta charset=\"utf-8\" /></head>\n",
              "<body>\n",
              "    <div>            <script src=\"https://cdnjs.cloudflare.com/ajax/libs/mathjax/2.7.5/MathJax.js?config=TeX-AMS-MML_SVG\"></script><script type=\"text/javascript\">if (window.MathJax && window.MathJax.Hub && window.MathJax.Hub.Config) {window.MathJax.Hub.Config({SVG: {font: \"STIX-Web\"}});}</script>                <script type=\"text/javascript\">window.PlotlyConfig = {MathJaxConfig: 'local'};</script>\n",
              "        <script charset=\"utf-8\" src=\"https://cdn.plot.ly/plotly-2.24.1.min.js\"></script>                <div id=\"1e0f2c6a-3b21-4359-89e5-b65dfef4a0db\" class=\"plotly-graph-div\" style=\"height:525px; width:100%;\"></div>            <script type=\"text/javascript\">                                    window.PLOTLYENV=window.PLOTLYENV || {};                                    if (document.getElementById(\"1e0f2c6a-3b21-4359-89e5-b65dfef4a0db\")) {                    Plotly.newPlot(                        \"1e0f2c6a-3b21-4359-89e5-b65dfef4a0db\",                        [{\"hovertemplate\":\"date=%{x}\\u003cbr\\u003eavg_monthly_market_value_in_eur=%{y}\\u003cextra\\u003e\\u003c\\u002fextra\\u003e\",\"legendgroup\":\"\",\"line\":{\"color\":\"red\",\"dash\":\"solid\",\"width\":4},\"marker\":{\"symbol\":\"circle\"},\"mode\":\"lines\",\"name\":\"\",\"orientation\":\"v\",\"showlegend\":false,\"x\":[\"2014-01-25T00:00:00\",\"2014-05-10T00:00:00\",\"2014-08-17T00:00:00\",\"2014-09-16T00:00:00\",\"2014-10-22T00:00:00\",\"2014-11-22T00:00:00\",\"2014-12-05T00:00:00\",\"2015-01-11T00:00:00\",\"2015-02-01T00:00:00\",\"2015-03-01T00:00:00\",\"2015-04-03T00:00:00\",\"2015-05-10T00:00:00\",\"2015-08-08T00:00:00\",\"2015-09-13T00:00:00\",\"2015-10-01T00:00:00\",\"2015-11-05T00:00:00\",\"2015-12-10T00:00:00\",\"2016-01-09T00:00:00\",\"2016-02-02T00:00:00\",\"2016-03-04T00:00:00\",\"2016-04-01T00:00:00\",\"2016-05-07T00:00:00\",\"2016-07-27T00:00:00\",\"2016-08-03T00:00:00\",\"2016-09-10T00:00:00\",\"2016-10-01T00:00:00\",\"2016-11-05T00:00:00\",\"2016-12-03T00:00:00\",\"2017-01-15T00:00:00\",\"2017-02-04T00:00:00\",\"2017-03-05T00:00:00\",\"2017-04-08T00:00:00\",\"2017-05-03T00:00:00\",\"2017-08-12T00:00:00\",\"2017-09-13T00:00:00\",\"2017-10-14T00:00:00\",\"2017-11-18T00:00:00\",\"2017-12-10T00:00:00\",\"2018-01-28T00:00:00\",\"2018-02-03T00:00:00\",\"2018-03-01T00:00:00\",\"2018-04-07T00:00:00\",\"2018-05-09T00:00:00\",\"2018-08-05T00:00:00\",\"2018-09-01T00:00:00\",\"2018-10-02T00:00:00\",\"2018-11-04T00:00:00\",\"2018-12-04T00:00:00\",\"2019-01-03T00:00:00\",\"2019-02-20T00:00:00\",\"2019-03-02T00:00:00\",\"2019-04-14T00:00:00\",\"2019-05-06T00:00:00\",\"2019-08-31T00:00:00\",\"2019-09-18T00:00:00\",\"2019-10-01T00:00:00\",\"2019-11-02T00:00:00\",\"2019-12-03T00:00:00\",\"2020-01-18T00:00:00\",\"2020-02-02T00:00:00\",\"2020-03-08T00:00:00\",\"2020-06-17T00:00:00\",\"2020-07-05T00:00:00\",\"2020-08-07T00:00:00\",\"2020-10-03T00:00:00\",\"2020-11-25T00:00:00\",\"2020-12-01T00:00:00\",\"2021-01-03T00:00:00\",\"2021-02-17T00:00:00\",\"2021-03-10T00:00:00\",\"2021-04-10T00:00:00\",\"2021-05-14T00:00:00\",\"2021-08-07T00:00:00\",\"2021-09-11T00:00:00\",\"2021-10-16T00:00:00\",\"2021-11-28T00:00:00\",\"2021-12-01T00:00:00\",\"2022-01-01T00:00:00\",\"2022-02-05T00:00:00\",\"2022-03-09T00:00:00\",\"2022-04-13T00:00:00\",\"2022-05-04T00:00:00\",\"2022-07-30T00:00:00\",\"2022-08-07T00:00:00\",\"2022-09-03T00:00:00\",\"2022-10-02T00:00:00\",\"2022-11-02T00:00:00\",\"2022-12-22T00:00:00\",\"2023-01-05T00:00:00\",\"2023-02-05T00:00:00\",\"2023-03-04T00:00:00\",\"2023-04-01T00:00:00\",\"2023-05-06T00:00:00\",\"2023-06-03T00:00:00\",\"2023-08-06T00:00:00\",\"2023-09-02T00:00:00\",\"2023-10-08T00:00:00\",\"2023-11-04T00:00:00\",\"2023-12-03T00:00:00\",\"2024-01-13T00:00:00\",\"2024-02-05T00:00:00\",\"2024-03-10T00:00:00\"],\"xaxis\":\"x\",\"y\":[600000.0,2500000.0,2500000.0,2500000.0,2500000.0,2500000.0,2500000.0,3500000.0,10000000.0,10000000.0,10000000.0,10000000.0,12000000.0,15000000.0,15000000.0,15000000.0,15000000.0,15000000.0,15000000.0,15000000.0,15000000.0,15000000.0,16000000.0,16000000.0,16000000.0,16000000.0,20000000.0,20000000.0,25000000.0,25000000.0,25000000.0,25000000.0,25000000.0,40000000.0,40000000.0,40000000.0,40000000.0,40000000.0,40000000.0,40000000.0,40000000.0,40000000.0,50000000.0,50000000.0,50000000.0,60000000.0,60000000.0,65000000.0,65000000.0,65000000.0,80000000.0,80000000.0,80000000.0,100000000.0,100000000.0,100000000.0,100000000.0,100000000.0,100000000.0,100000000.0,100000000.0,80000000.0,80000000.0,80000000.0,80000000.0,80000000.0,70000000.0,70000000.0,70000000.0,70000000.0,70000000.0,70000000.0,70000000.0,70000000.0,70000000.0,70000000.0,75000000.0,75000000.0,75000000.0,75000000.0,75000000.0,75000000.0,80000000.0,80000000.0,80000000.0,80000000.0,80000000.0,80000000.0,80000000.0,80000000.0,80000000.0,80000000.0,80000000.0,80000000.0,80000000.0,80000000.0,80000000.0,80000000.0,80000000.0,80000000.0,80000000.0,80000000.0],\"yaxis\":\"y\",\"type\":\"scatter\"}],                        {\"template\":{\"data\":{\"histogram2dcontour\":[{\"type\":\"histogram2dcontour\",\"colorbar\":{\"outlinewidth\":0,\"ticks\":\"\"},\"colorscale\":[[0.0,\"#0d0887\"],[0.1111111111111111,\"#46039f\"],[0.2222222222222222,\"#7201a8\"],[0.3333333333333333,\"#9c179e\"],[0.4444444444444444,\"#bd3786\"],[0.5555555555555556,\"#d8576b\"],[0.6666666666666666,\"#ed7953\"],[0.7777777777777778,\"#fb9f3a\"],[0.8888888888888888,\"#fdca26\"],[1.0,\"#f0f921\"]]}],\"choropleth\":[{\"type\":\"choropleth\",\"colorbar\":{\"outlinewidth\":0,\"ticks\":\"\"}}],\"histogram2d\":[{\"type\":\"histogram2d\",\"colorbar\":{\"outlinewidth\":0,\"ticks\":\"\"},\"colorscale\":[[0.0,\"#0d0887\"],[0.1111111111111111,\"#46039f\"],[0.2222222222222222,\"#7201a8\"],[0.3333333333333333,\"#9c179e\"],[0.4444444444444444,\"#bd3786\"],[0.5555555555555556,\"#d8576b\"],[0.6666666666666666,\"#ed7953\"],[0.7777777777777778,\"#fb9f3a\"],[0.8888888888888888,\"#fdca26\"],[1.0,\"#f0f921\"]]}],\"heatmap\":[{\"type\":\"heatmap\",\"colorbar\":{\"outlinewidth\":0,\"ticks\":\"\"},\"colorscale\":[[0.0,\"#0d0887\"],[0.1111111111111111,\"#46039f\"],[0.2222222222222222,\"#7201a8\"],[0.3333333333333333,\"#9c179e\"],[0.4444444444444444,\"#bd3786\"],[0.5555555555555556,\"#d8576b\"],[0.6666666666666666,\"#ed7953\"],[0.7777777777777778,\"#fb9f3a\"],[0.8888888888888888,\"#fdca26\"],[1.0,\"#f0f921\"]]}],\"heatmapgl\":[{\"type\":\"heatmapgl\",\"colorbar\":{\"outlinewidth\":0,\"ticks\":\"\"},\"colorscale\":[[0.0,\"#0d0887\"],[0.1111111111111111,\"#46039f\"],[0.2222222222222222,\"#7201a8\"],[0.3333333333333333,\"#9c179e\"],[0.4444444444444444,\"#bd3786\"],[0.5555555555555556,\"#d8576b\"],[0.6666666666666666,\"#ed7953\"],[0.7777777777777778,\"#fb9f3a\"],[0.8888888888888888,\"#fdca26\"],[1.0,\"#f0f921\"]]}],\"contourcarpet\":[{\"type\":\"contourcarpet\",\"colorbar\":{\"outlinewidth\":0,\"ticks\":\"\"}}],\"contour\":[{\"type\":\"contour\",\"colorbar\":{\"outlinewidth\":0,\"ticks\":\"\"},\"colorscale\":[[0.0,\"#0d0887\"],[0.1111111111111111,\"#46039f\"],[0.2222222222222222,\"#7201a8\"],[0.3333333333333333,\"#9c179e\"],[0.4444444444444444,\"#bd3786\"],[0.5555555555555556,\"#d8576b\"],[0.6666666666666666,\"#ed7953\"],[0.7777777777777778,\"#fb9f3a\"],[0.8888888888888888,\"#fdca26\"],[1.0,\"#f0f921\"]]}],\"surface\":[{\"type\":\"surface\",\"colorbar\":{\"outlinewidth\":0,\"ticks\":\"\"},\"colorscale\":[[0.0,\"#0d0887\"],[0.1111111111111111,\"#46039f\"],[0.2222222222222222,\"#7201a8\"],[0.3333333333333333,\"#9c179e\"],[0.4444444444444444,\"#bd3786\"],[0.5555555555555556,\"#d8576b\"],[0.6666666666666666,\"#ed7953\"],[0.7777777777777778,\"#fb9f3a\"],[0.8888888888888888,\"#fdca26\"],[1.0,\"#f0f921\"]]}],\"mesh3d\":[{\"type\":\"mesh3d\",\"colorbar\":{\"outlinewidth\":0,\"ticks\":\"\"}}],\"scatter\":[{\"fillpattern\":{\"fillmode\":\"overlay\",\"size\":10,\"solidity\":0.2},\"type\":\"scatter\"}],\"parcoords\":[{\"type\":\"parcoords\",\"line\":{\"colorbar\":{\"outlinewidth\":0,\"ticks\":\"\"}}}],\"scatterpolargl\":[{\"type\":\"scatterpolargl\",\"marker\":{\"colorbar\":{\"outlinewidth\":0,\"ticks\":\"\"}}}],\"bar\":[{\"error_x\":{\"color\":\"#2a3f5f\"},\"error_y\":{\"color\":\"#2a3f5f\"},\"marker\":{\"line\":{\"color\":\"#E5ECF6\",\"width\":0.5},\"pattern\":{\"fillmode\":\"overlay\",\"size\":10,\"solidity\":0.2}},\"type\":\"bar\"}],\"scattergeo\":[{\"type\":\"scattergeo\",\"marker\":{\"colorbar\":{\"outlinewidth\":0,\"ticks\":\"\"}}}],\"scatterpolar\":[{\"type\":\"scatterpolar\",\"marker\":{\"colorbar\":{\"outlinewidth\":0,\"ticks\":\"\"}}}],\"histogram\":[{\"marker\":{\"pattern\":{\"fillmode\":\"overlay\",\"size\":10,\"solidity\":0.2}},\"type\":\"histogram\"}],\"scattergl\":[{\"type\":\"scattergl\",\"marker\":{\"colorbar\":{\"outlinewidth\":0,\"ticks\":\"\"}}}],\"scatter3d\":[{\"type\":\"scatter3d\",\"line\":{\"colorbar\":{\"outlinewidth\":0,\"ticks\":\"\"}},\"marker\":{\"colorbar\":{\"outlinewidth\":0,\"ticks\":\"\"}}}],\"scattermapbox\":[{\"type\":\"scattermapbox\",\"marker\":{\"colorbar\":{\"outlinewidth\":0,\"ticks\":\"\"}}}],\"scatterternary\":[{\"type\":\"scatterternary\",\"marker\":{\"colorbar\":{\"outlinewidth\":0,\"ticks\":\"\"}}}],\"scattercarpet\":[{\"type\":\"scattercarpet\",\"marker\":{\"colorbar\":{\"outlinewidth\":0,\"ticks\":\"\"}}}],\"carpet\":[{\"aaxis\":{\"endlinecolor\":\"#2a3f5f\",\"gridcolor\":\"white\",\"linecolor\":\"white\",\"minorgridcolor\":\"white\",\"startlinecolor\":\"#2a3f5f\"},\"baxis\":{\"endlinecolor\":\"#2a3f5f\",\"gridcolor\":\"white\",\"linecolor\":\"white\",\"minorgridcolor\":\"white\",\"startlinecolor\":\"#2a3f5f\"},\"type\":\"carpet\"}],\"table\":[{\"cells\":{\"fill\":{\"color\":\"#EBF0F8\"},\"line\":{\"color\":\"white\"}},\"header\":{\"fill\":{\"color\":\"#C8D4E3\"},\"line\":{\"color\":\"white\"}},\"type\":\"table\"}],\"barpolar\":[{\"marker\":{\"line\":{\"color\":\"#E5ECF6\",\"width\":0.5},\"pattern\":{\"fillmode\":\"overlay\",\"size\":10,\"solidity\":0.2}},\"type\":\"barpolar\"}],\"pie\":[{\"automargin\":true,\"type\":\"pie\"}]},\"layout\":{\"autotypenumbers\":\"strict\",\"colorway\":[\"#636efa\",\"#EF553B\",\"#00cc96\",\"#ab63fa\",\"#FFA15A\",\"#19d3f3\",\"#FF6692\",\"#B6E880\",\"#FF97FF\",\"#FECB52\"],\"font\":{\"color\":\"#2a3f5f\"},\"hovermode\":\"closest\",\"hoverlabel\":{\"align\":\"left\"},\"paper_bgcolor\":\"white\",\"plot_bgcolor\":\"#E5ECF6\",\"polar\":{\"bgcolor\":\"#E5ECF6\",\"angularaxis\":{\"gridcolor\":\"white\",\"linecolor\":\"white\",\"ticks\":\"\"},\"radialaxis\":{\"gridcolor\":\"white\",\"linecolor\":\"white\",\"ticks\":\"\"}},\"ternary\":{\"bgcolor\":\"#E5ECF6\",\"aaxis\":{\"gridcolor\":\"white\",\"linecolor\":\"white\",\"ticks\":\"\"},\"baxis\":{\"gridcolor\":\"white\",\"linecolor\":\"white\",\"ticks\":\"\"},\"caxis\":{\"gridcolor\":\"white\",\"linecolor\":\"white\",\"ticks\":\"\"}},\"coloraxis\":{\"colorbar\":{\"outlinewidth\":0,\"ticks\":\"\"}},\"colorscale\":{\"sequential\":[[0.0,\"#0d0887\"],[0.1111111111111111,\"#46039f\"],[0.2222222222222222,\"#7201a8\"],[0.3333333333333333,\"#9c179e\"],[0.4444444444444444,\"#bd3786\"],[0.5555555555555556,\"#d8576b\"],[0.6666666666666666,\"#ed7953\"],[0.7777777777777778,\"#fb9f3a\"],[0.8888888888888888,\"#fdca26\"],[1.0,\"#f0f921\"]],\"sequentialminus\":[[0.0,\"#0d0887\"],[0.1111111111111111,\"#46039f\"],[0.2222222222222222,\"#7201a8\"],[0.3333333333333333,\"#9c179e\"],[0.4444444444444444,\"#bd3786\"],[0.5555555555555556,\"#d8576b\"],[0.6666666666666666,\"#ed7953\"],[0.7777777777777778,\"#fb9f3a\"],[0.8888888888888888,\"#fdca26\"],[1.0,\"#f0f921\"]],\"diverging\":[[0,\"#8e0152\"],[0.1,\"#c51b7d\"],[0.2,\"#de77ae\"],[0.3,\"#f1b6da\"],[0.4,\"#fde0ef\"],[0.5,\"#f7f7f7\"],[0.6,\"#e6f5d0\"],[0.7,\"#b8e186\"],[0.8,\"#7fbc41\"],[0.9,\"#4d9221\"],[1,\"#276419\"]]},\"xaxis\":{\"gridcolor\":\"white\",\"linecolor\":\"white\",\"ticks\":\"\",\"title\":{\"standoff\":15},\"zerolinecolor\":\"white\",\"automargin\":true,\"zerolinewidth\":2},\"yaxis\":{\"gridcolor\":\"white\",\"linecolor\":\"white\",\"ticks\":\"\",\"title\":{\"standoff\":15},\"zerolinecolor\":\"white\",\"automargin\":true,\"zerolinewidth\":2},\"scene\":{\"xaxis\":{\"backgroundcolor\":\"#E5ECF6\",\"gridcolor\":\"white\",\"linecolor\":\"white\",\"showbackground\":true,\"ticks\":\"\",\"zerolinecolor\":\"white\",\"gridwidth\":2},\"yaxis\":{\"backgroundcolor\":\"#E5ECF6\",\"gridcolor\":\"white\",\"linecolor\":\"white\",\"showbackground\":true,\"ticks\":\"\",\"zerolinecolor\":\"white\",\"gridwidth\":2},\"zaxis\":{\"backgroundcolor\":\"#E5ECF6\",\"gridcolor\":\"white\",\"linecolor\":\"white\",\"showbackground\":true,\"ticks\":\"\",\"zerolinecolor\":\"white\",\"gridwidth\":2}},\"shapedefaults\":{\"line\":{\"color\":\"#2a3f5f\"}},\"annotationdefaults\":{\"arrowcolor\":\"#2a3f5f\",\"arrowhead\":0,\"arrowwidth\":1},\"geo\":{\"bgcolor\":\"white\",\"landcolor\":\"#E5ECF6\",\"subunitcolor\":\"white\",\"showland\":true,\"showlakes\":true,\"lakecolor\":\"white\"},\"title\":{\"x\":0.05},\"mapbox\":{\"style\":\"light\"}}},\"xaxis\":{\"anchor\":\"y\",\"domain\":[0.0,1.0],\"title\":{\"text\":\"Years\"},\"tickfont\":{\"size\":12,\"color\":\"black\"},\"showgrid\":true,\"dtick\":\"M12\",\"gridcolor\":\"grey\"},\"yaxis\":{\"anchor\":\"x\",\"domain\":[0.0,1.0],\"title\":{\"text\":\"Value\"},\"tickfont\":{\"size\":12,\"color\":\"black\"},\"showgrid\":true,\"gridcolor\":\"grey\"},\"legend\":{\"tracegroupgap\":0},\"title\":{\"text\":\"Bernardo Silva's market value evolution\",\"font\":{\"size\":24,\"family\":\"Arial\",\"color\":\"black\"}},\"plot_bgcolor\":\"white\",\"paper_bgcolor\":\"white\"},                        {\"responsive\": true}                    ).then(function(){\n",
              "                            \n",
              "var gd = document.getElementById('1e0f2c6a-3b21-4359-89e5-b65dfef4a0db');\n",
              "var x = new MutationObserver(function (mutations, observer) {{\n",
              "        var display = window.getComputedStyle(gd).display;\n",
              "        if (!display || display === 'none') {{\n",
              "            console.log([gd, 'removed!']);\n",
              "            Plotly.purge(gd);\n",
              "            observer.disconnect();\n",
              "        }}\n",
              "}});\n",
              "\n",
              "// Listen for the removal of the full notebook cells\n",
              "var notebookContainer = gd.closest('#notebook-container');\n",
              "if (notebookContainer) {{\n",
              "    x.observe(notebookContainer, {childList: true});\n",
              "}}\n",
              "\n",
              "// Listen for the clearing of the current output cell\n",
              "var outputEl = gd.closest('.output');\n",
              "if (outputEl) {{\n",
              "    x.observe(outputEl, {childList: true});\n",
              "}}\n",
              "\n",
              "                        })                };                            </script>        </div>\n",
              "</body>\n",
              "</html>"
            ]
          },
          "metadata": {}
        }
      ]
    }
  ]
}